{
  "nbformat": 4,
  "nbformat_minor": 0,
  "metadata": {
    "colab": {
      "name": "FlatMapTalendComponents.ipynb",
      "provenance": [],
      "collapsed_sections": [],
      "authorship_tag": "ABX9TyMDHLrlp1Fns3qi+rrJggh2",
      "include_colab_link": true
    },
    "kernelspec": {
      "name": "python3",
      "display_name": "Python 3"
    },
    "language_info": {
      "name": "python"
    }
  },
  "cells": [
    {
      "cell_type": "markdown",
      "metadata": {
        "id": "view-in-github",
        "colab_type": "text"
      },
      "source": [
        "<a href=\"https://colab.research.google.com/github/sizhaoliu/StitchDataConnectors/blob/master/FlatMapTalendComponents.ipynb\" target=\"_parent\"><img src=\"https://colab.research.google.com/assets/colab-badge.svg\" alt=\"Open In Colab\"/></a>"
      ]
    },
    {
      "cell_type": "code",
      "metadata": {
        "id": "HrTPzP-P6MtT"
      },
      "source": [
        "import pandas as pd\n",
        "import io\n",
        "import csv\n"
      ],
      "execution_count": null,
      "outputs": []
    },
    {
      "cell_type": "code",
      "metadata": {
        "colab": {
          "base_uri": "https://localhost:8080/",
          "height": 204
        },
        "id": "megDM3pk-fyV",
        "outputId": "6bd11fd8-1087-4e9c-b031-2b35afdd6c24"
      },
      "source": [
        "df = pd.read_csv(\"sample_data/TalendStudioComponents.csv\", delimiter=',', header=0,\n",
        "                 names=['Product', 'Acronym', 'Name', 'Family', 'ESB', 'Visible', 'DI', 'MR', 'Spark', 'SparkStreaming', 'Technology']) \n",
        "df.tail()"
      ],
      "execution_count": null,
      "outputs": [
        {
          "output_type": "execute_result",
          "data": {
            "text/html": [
              "<div>\n",
              "<style scoped>\n",
              "    .dataframe tbody tr th:only-of-type {\n",
              "        vertical-align: middle;\n",
              "    }\n",
              "\n",
              "    .dataframe tbody tr th {\n",
              "        vertical-align: top;\n",
              "    }\n",
              "\n",
              "    .dataframe thead th {\n",
              "        text-align: right;\n",
              "    }\n",
              "</style>\n",
              "<table border=\"1\" class=\"dataframe\">\n",
              "  <thead>\n",
              "    <tr style=\"text-align: right;\">\n",
              "      <th></th>\n",
              "      <th>Product</th>\n",
              "      <th>Acronym</th>\n",
              "      <th>Name</th>\n",
              "      <th>Family</th>\n",
              "      <th>ESB</th>\n",
              "      <th>Visible</th>\n",
              "      <th>DI</th>\n",
              "      <th>MR</th>\n",
              "      <th>Spark</th>\n",
              "      <th>SparkStreaming</th>\n",
              "      <th>Technology</th>\n",
              "    </tr>\n",
              "  </thead>\n",
              "  <tbody>\n",
              "    <tr>\n",
              "      <th>22900</th>\n",
              "      <td>Talend ESB</td>\n",
              "      <td>ESB_EE</td>\n",
              "      <td>cAggregate</td>\n",
              "      <td>Routing</td>\n",
              "      <td>1</td>\n",
              "      <td>1</td>\n",
              "      <td>0</td>\n",
              "      <td>0</td>\n",
              "      <td>0</td>\n",
              "      <td>0</td>\n",
              "      <td>Aggregate (Mediation)</td>\n",
              "    </tr>\n",
              "    <tr>\n",
              "      <th>22901</th>\n",
              "      <td>Talend Data Services Platform</td>\n",
              "      <td>TP_DS</td>\n",
              "      <td>cAggregate</td>\n",
              "      <td>Routing</td>\n",
              "      <td>1</td>\n",
              "      <td>1</td>\n",
              "      <td>0</td>\n",
              "      <td>0</td>\n",
              "      <td>0</td>\n",
              "      <td>0</td>\n",
              "      <td>Aggregate (Mediation)</td>\n",
              "    </tr>\n",
              "    <tr>\n",
              "      <th>22902</th>\n",
              "      <td>Talend Real-Time Big Data Platform</td>\n",
              "      <td>TP_DS_BDRT</td>\n",
              "      <td>cAggregate</td>\n",
              "      <td>Routing</td>\n",
              "      <td>1</td>\n",
              "      <td>1</td>\n",
              "      <td>0</td>\n",
              "      <td>0</td>\n",
              "      <td>0</td>\n",
              "      <td>0</td>\n",
              "      <td>Aggregate (Mediation)</td>\n",
              "    </tr>\n",
              "    <tr>\n",
              "      <th>22903</th>\n",
              "      <td>Talend MDM Platform</td>\n",
              "      <td>TP_MDM</td>\n",
              "      <td>cAggregate</td>\n",
              "      <td>Routing</td>\n",
              "      <td>1</td>\n",
              "      <td>1</td>\n",
              "      <td>0</td>\n",
              "      <td>0</td>\n",
              "      <td>0</td>\n",
              "      <td>0</td>\n",
              "      <td>Aggregate (Mediation)</td>\n",
              "    </tr>\n",
              "    <tr>\n",
              "      <th>22904</th>\n",
              "      <td>Talend Data Fabric</td>\n",
              "      <td>TP_ALL</td>\n",
              "      <td>cAggregate</td>\n",
              "      <td>Routing</td>\n",
              "      <td>1</td>\n",
              "      <td>1</td>\n",
              "      <td>0</td>\n",
              "      <td>0</td>\n",
              "      <td>0</td>\n",
              "      <td>0</td>\n",
              "      <td>Aggregate (Mediation)</td>\n",
              "    </tr>\n",
              "  </tbody>\n",
              "</table>\n",
              "</div>"
            ],
            "text/plain": [
              "                                  Product  ...             Technology\n",
              "22900                          Talend ESB  ...  Aggregate (Mediation)\n",
              "22901       Talend Data Services Platform  ...  Aggregate (Mediation)\n",
              "22902  Talend Real-Time Big Data Platform  ...  Aggregate (Mediation)\n",
              "22903                 Talend MDM Platform  ...  Aggregate (Mediation)\n",
              "22904                  Talend Data Fabric  ...  Aggregate (Mediation)\n",
              "\n",
              "[5 rows x 11 columns]"
            ]
          },
          "metadata": {
            "tags": []
          },
          "execution_count": 25
        }
      ]
    },
    {
      "cell_type": "code",
      "metadata": {
        "colab": {
          "base_uri": "https://localhost:8080/"
        },
        "id": "-omcP3anDWwK",
        "outputId": "2e1d8e51-e9aa-460f-97b4-d2aa62b37a31"
      },
      "source": [
        "df_dedupe = df.drop_duplicates()\n",
        "df_dedupe.count()"
      ],
      "execution_count": null,
      "outputs": [
        {
          "output_type": "execute_result",
          "data": {
            "text/plain": [
              "Product           19856\n",
              "Acronym           19856\n",
              "Name              19856\n",
              "Family            19856\n",
              "ESB               19856\n",
              "Visible           19856\n",
              "DI                19856\n",
              "MR                19856\n",
              "Spark             19856\n",
              "SparkStreaming    19856\n",
              "Technology        19856\n",
              "dtype: int64"
            ]
          },
          "metadata": {
            "tags": []
          },
          "execution_count": 27
        }
      ]
    },
    {
      "cell_type": "code",
      "metadata": {
        "id": "vKmEdY6NUB6I"
      },
      "source": [
        "def newResultRow(framework, product, acronym, family, technology, name):\n",
        "  output_row = {}\n",
        "  output_row['Framework'] = framework\n",
        "  output_row['Product'] = product\n",
        "  output_row['Acronym'] = acronym\n",
        "  output_row['Family'] = family\n",
        "  output_row['Technology'] = technology\n",
        "  output_row['Name'] = name\n",
        "  return output_row"
      ],
      "execution_count": null,
      "outputs": []
    },
    {
      "cell_type": "code",
      "metadata": {
        "id": "9Ta1KJEaDayw"
      },
      "source": [
        "result_table = []\n",
        "\n",
        "for index, row in df_dedupe.iterrows():\n",
        "  if (row['Acronym'].startswith('TOS')):\n",
        "    continue\n",
        "\n",
        "  if (row['ESB'] == 1):\n",
        "    output_row = newResultRow('ESB', row['Product'], row['Acronym'], row['Family'], row['Technology'], row['Name'])\n",
        "    result_table.append(output_row)\n",
        "  \n",
        "  if (row['DI'] == 1):\n",
        "    output_row = newResultRow('DI', row['Product'], row['Acronym'], row['Family'], row['Technology'], row['Name'])\n",
        "    result_table.append(output_row)\n",
        "  \n",
        "  if (row['MR'] == 1):\n",
        "    output_row = newResultRow('MR', row['Product'], row['Acronym'], row['Family'], row['Technology'], row['Name'])\n",
        "    result_table.append(output_row)\n",
        "  \n",
        "  if (row['Spark'] == 1):\n",
        "    output_row = newResultRow('Spark', row['Product'], row['Acronym'], row['Family'], row['Technology'], row['Name'])\n",
        "    result_table.append(output_row)\n",
        "  \n",
        "  if (row['SparkStreaming'] == 1):\n",
        "    output_row = newResultRow('SparkStreaming', row['Product'], row['Acronym'], row['Family'], row['Technology'], row['Name'])\n",
        "    result_table.append(output_row)\n",
        "\n"
      ],
      "execution_count": null,
      "outputs": []
    },
    {
      "cell_type": "code",
      "metadata": {
        "id": "2qyEFVO8Awnv"
      },
      "source": [
        "with open(\"sample_data/Output.csv\", 'w') as out_file:\n",
        "      # The table has headers as following\n",
        "      headers = [ \n",
        "          'Framework',\n",
        "          'Product',\n",
        "          'Acronym',\n",
        "          'Family',\n",
        "          'Technology',\n",
        "          'Name',\n",
        "      ]\n",
        "      writer = csv.DictWriter(out_file, headers)\n",
        "      # write the header\n",
        "      writer.writeheader()\n",
        "      for row in result_table:\n",
        "          if row:\n",
        "              writer.writerow(row)"
      ],
      "execution_count": null,
      "outputs": []
    }
  ]
}