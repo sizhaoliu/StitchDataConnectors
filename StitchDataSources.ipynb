{
  "nbformat": 4,
  "nbformat_minor": 0,
  "metadata": {
    "colab": {
      "name": "StitchDataSources.ipynb",
      "provenance": [],
      "collapsed_sections": [],
      "authorship_tag": "ABX9TyOwi9zVnXQKG1pgr/XknUfG",
      "include_colab_link": true
    },
    "kernelspec": {
      "name": "python3",
      "display_name": "Python 3"
    }
  },
  "cells": [
    {
      "cell_type": "markdown",
      "metadata": {
        "id": "view-in-github",
        "colab_type": "text"
      },
      "source": [
        "<a href=\"https://colab.research.google.com/github/sizhaoliu/StitchDataConnectors/blob/master/StitchDataSources.ipynb\" target=\"_parent\"><img src=\"https://colab.research.google.com/assets/colab-badge.svg\" alt=\"Open In Colab\"/></a>"
      ]
    },
    {
      "cell_type": "code",
      "metadata": {
        "id": "iYV290P_81RV",
        "colab_type": "code",
        "colab": {}
      },
      "source": [
        "# importing the libraries\n",
        "from bs4 import BeautifulSoup\n",
        "import requests\n",
        "import csv\n",
        "import pandas as pd "
      ],
      "execution_count": 0,
      "outputs": []
    },
    {
      "cell_type": "code",
      "metadata": {
        "id": "g3I49wfd9A2s",
        "colab_type": "code",
        "colab": {}
      },
      "source": [
        "# Step 1: Sending a HTTP request to a URL\n",
        "url = \"https://www.stitchdata.com/integrations/sources/\"\n",
        "# Make a GET request to fetch the raw HTML content\n",
        "html_content = requests.get(url).text\n"
      ],
      "execution_count": 0,
      "outputs": []
    },
    {
      "cell_type": "code",
      "metadata": {
        "id": "LukNcgBz9C65",
        "colab_type": "code",
        "colab": {}
      },
      "source": [
        "# Step 2: Parse the html content\n",
        "soup = BeautifulSoup(html_content, \"lxml\")\n",
        "# print(soup.prettify()) # print the parsed data of html\n"
      ],
      "execution_count": 0,
      "outputs": []
    },
    {
      "cell_type": "code",
      "metadata": {
        "id": "nedlHAks9Fcc",
        "colab_type": "code",
        "outputId": "6a64d1ad-3d36-46f5-aad1-d5188cb179a3",
        "colab": {
          "base_uri": "https://localhost:8080/",
          "height": 34
        }
      },
      "source": [
        "# Step 3: Analyze the HTML tag, where your content lives\n",
        "# Get the section having the id \"sources\"\n",
        "data_source_section = soup.find(\"section\", attrs={\"id\": \"sources\"})\n",
        "\n",
        "data_source_list = data_source_section.ul.find_all(\"li\", attrs={\"style\": \"\"}) \n",
        "# 3 elements with the following IDs are excluded: requestBox, analysisToolBox, destinationBox\n",
        "\n",
        "# print(data_source_list[0].prettify()) # print the first data source element\n",
        "\n",
        "print(str(len(data_source_list)) + \" sources in total.\")"
      ],
      "execution_count": 4,
      "outputs": [
        {
          "output_type": "stream",
          "text": [
            "123 sources in total.\n"
          ],
          "name": "stdout"
        }
      ]
    },
    {
      "cell_type": "code",
      "metadata": {
        "id": "cQ465Gy1FLRM",
        "colab_type": "code",
        "outputId": "df584970-e1c7-40e9-ab35-6a16a1f2fe6c",
        "colab": {
          "base_uri": "https://localhost:8080/",
          "height": 34
        }
      },
      "source": [
        "data_source_table = []\n",
        "for li in data_source_list: # loop on all li's\n",
        "    t_row = {}\n",
        "    # Each table row is stored in the form of\n",
        "    # t_row = {'Connector Name': '', 'Category': '', 'Paid Status': '', 'Support Status': ''}\n",
        "\n",
        "    t_row['Connector Name'] = li.a.div.p.text\n",
        "    t_row['Category'] = li.attrs['data-integration-category-name']\n",
        "\n",
        "    status_div = li.a.find(\"div\", attrs={\"class\": \"logo-pills\"})\n",
        "    t_row['Paid Status'] = status_div.find(\"div\", attrs={\"class\": \"paid-status\"}).text.strip()\n",
        "    t_row['Support Status'] = status_div.find(\"div\", attrs={\"class\": \"support-status\"}).text.strip()\n",
        "    data_source_table.append(t_row)\n",
        "\n",
        "print(data_source_table[0])"
      ],
      "execution_count": 5,
      "outputs": [
        {
          "output_type": "stream",
          "text": [
            "{'Connector Name': 'AdRoll', 'Category': 'Advertising', 'Paid Status': 'Free', 'Support Status': 'Stitch-certified'}\n"
          ],
          "name": "stdout"
        }
      ]
    },
    {
      "cell_type": "code",
      "metadata": {
        "id": "y_KsMCcI9IFF",
        "colab_type": "code",
        "outputId": "c9aededf-b35e-4604-9c26-c1b223efe59f",
        "colab": {
          "base_uri": "https://localhost:8080/",
          "height": 419
        }
      },
      "source": [
        "# Step 4: Export the data to csv\n",
        "with open(\"StitchDataSourceList.csv\", 'w') as out_file:\n",
        "      # The table has headers as following\n",
        "      headers = [ \n",
        "          \"Connector Name\",\n",
        "          \"Category\",\n",
        "          \"Paid Status\",\n",
        "          \"Support Status\"\n",
        "      ]\n",
        "      writer = csv.DictWriter(out_file, headers)\n",
        "      # write the header\n",
        "      writer.writeheader()\n",
        "      for row in data_source_table:\n",
        "          if row:\n",
        "              writer.writerow(row)\n",
        "\n",
        "data = pd.read_csv(\"StitchDataSourceList.csv\") \n",
        "data.head(200)"
      ],
      "execution_count": 6,
      "outputs": [
        {
          "output_type": "execute_result",
          "data": {
            "text/html": [
              "<div>\n",
              "<style scoped>\n",
              "    .dataframe tbody tr th:only-of-type {\n",
              "        vertical-align: middle;\n",
              "    }\n",
              "\n",
              "    .dataframe tbody tr th {\n",
              "        vertical-align: top;\n",
              "    }\n",
              "\n",
              "    .dataframe thead th {\n",
              "        text-align: right;\n",
              "    }\n",
              "</style>\n",
              "<table border=\"1\" class=\"dataframe\">\n",
              "  <thead>\n",
              "    <tr style=\"text-align: right;\">\n",
              "      <th></th>\n",
              "      <th>Connector Name</th>\n",
              "      <th>Category</th>\n",
              "      <th>Paid Status</th>\n",
              "      <th>Support Status</th>\n",
              "    </tr>\n",
              "  </thead>\n",
              "  <tbody>\n",
              "    <tr>\n",
              "      <th>0</th>\n",
              "      <td>AdRoll</td>\n",
              "      <td>Advertising</td>\n",
              "      <td>Free</td>\n",
              "      <td>Stitch-certified</td>\n",
              "    </tr>\n",
              "    <tr>\n",
              "      <th>1</th>\n",
              "      <td>AfterShip</td>\n",
              "      <td>Business</td>\n",
              "      <td>Free</td>\n",
              "      <td>Stitch-certified</td>\n",
              "    </tr>\n",
              "    <tr>\n",
              "      <th>2</th>\n",
              "      <td>Amazon Aurora MySQL</td>\n",
              "      <td>Databases</td>\n",
              "      <td>Free</td>\n",
              "      <td>Stitch-certified</td>\n",
              "    </tr>\n",
              "    <tr>\n",
              "      <th>3</th>\n",
              "      <td>Amazon Aurora PostgreSQL</td>\n",
              "      <td>Databases</td>\n",
              "      <td>Free</td>\n",
              "      <td>Stitch-certified</td>\n",
              "    </tr>\n",
              "    <tr>\n",
              "      <th>4</th>\n",
              "      <td>Amazon RDS for MariaDB</td>\n",
              "      <td>Databases</td>\n",
              "      <td>Free</td>\n",
              "      <td>Stitch-certified</td>\n",
              "    </tr>\n",
              "    <tr>\n",
              "      <th>...</th>\n",
              "      <td>...</td>\n",
              "      <td>...</td>\n",
              "      <td>...</td>\n",
              "      <td>...</td>\n",
              "    </tr>\n",
              "    <tr>\n",
              "      <th>118</th>\n",
              "      <td>Yotpo</td>\n",
              "      <td>Business</td>\n",
              "      <td>Free</td>\n",
              "      <td>Community-supported</td>\n",
              "    </tr>\n",
              "    <tr>\n",
              "      <th>119</th>\n",
              "      <td>Zapier</td>\n",
              "      <td>Automation</td>\n",
              "      <td>Free</td>\n",
              "      <td>Stitch-certified</td>\n",
              "    </tr>\n",
              "    <tr>\n",
              "      <th>120</th>\n",
              "      <td>Zendesk Chat</td>\n",
              "      <td>Support</td>\n",
              "      <td>Free</td>\n",
              "      <td>Community-supported</td>\n",
              "    </tr>\n",
              "    <tr>\n",
              "      <th>121</th>\n",
              "      <td>Zendesk Support</td>\n",
              "      <td>Support</td>\n",
              "      <td>Standard</td>\n",
              "      <td>Stitch-certified</td>\n",
              "    </tr>\n",
              "    <tr>\n",
              "      <th>122</th>\n",
              "      <td>Zuora</td>\n",
              "      <td>Business</td>\n",
              "      <td>Standard</td>\n",
              "      <td>Stitch-certified</td>\n",
              "    </tr>\n",
              "  </tbody>\n",
              "</table>\n",
              "<p>123 rows × 4 columns</p>\n",
              "</div>"
            ],
            "text/plain": [
              "               Connector Name     Category Paid Status       Support Status\n",
              "0                      AdRoll  Advertising        Free     Stitch-certified\n",
              "1                   AfterShip     Business        Free     Stitch-certified\n",
              "2         Amazon Aurora MySQL    Databases        Free     Stitch-certified\n",
              "3    Amazon Aurora PostgreSQL    Databases        Free     Stitch-certified\n",
              "4      Amazon RDS for MariaDB    Databases        Free     Stitch-certified\n",
              "..                        ...          ...         ...                  ...\n",
              "118                     Yotpo     Business        Free  Community-supported\n",
              "119                    Zapier   Automation        Free     Stitch-certified\n",
              "120              Zendesk Chat      Support        Free  Community-supported\n",
              "121           Zendesk Support      Support    Standard     Stitch-certified\n",
              "122                     Zuora     Business    Standard     Stitch-certified\n",
              "\n",
              "[123 rows x 4 columns]"
            ]
          },
          "metadata": {
            "tags": []
          },
          "execution_count": 6
        }
      ]
    }
  ]
}