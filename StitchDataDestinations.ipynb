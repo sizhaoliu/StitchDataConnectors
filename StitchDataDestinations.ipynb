{
  "nbformat": 4,
  "nbformat_minor": 0,
  "metadata": {
    "colab": {
      "name": "StitchDataDestinations.ipynb",
      "provenance": [],
      "collapsed_sections": [],
      "authorship_tag": "ABX9TyPtdSlLTAY1/Ekru+YoiuwX",
      "include_colab_link": true
    },
    "kernelspec": {
      "name": "python3",
      "display_name": "Python 3"
    }
  },
  "cells": [
    {
      "cell_type": "markdown",
      "metadata": {
        "id": "view-in-github",
        "colab_type": "text"
      },
      "source": [
        "<a href=\"https://colab.research.google.com/github/sizhaoliu/StitchDataConnectors/blob/master/StitchDataDestinations.ipynb\" target=\"_parent\"><img src=\"https://colab.research.google.com/assets/colab-badge.svg\" alt=\"Open In Colab\"/></a>"
      ]
    },
    {
      "cell_type": "code",
      "metadata": {
        "id": "iYV290P_81RV",
        "colab_type": "code",
        "colab": {}
      },
      "source": [
        "# importing the libraries\n",
        "from bs4 import BeautifulSoup\n",
        "import requests\n",
        "import csv\n",
        "import pandas as pd "
      ],
      "execution_count": 0,
      "outputs": []
    },
    {
      "cell_type": "code",
      "metadata": {
        "id": "g3I49wfd9A2s",
        "colab_type": "code",
        "colab": {}
      },
      "source": [
        "# Step 1: Sending a HTTP request to a URL\n",
        "url = \"https://www.stitchdata.com/integrations/destinations/\"\n",
        "# Make a GET request to fetch the raw HTML content\n",
        "html_content = requests.get(url).text\n"
      ],
      "execution_count": 0,
      "outputs": []
    },
    {
      "cell_type": "code",
      "metadata": {
        "id": "LukNcgBz9C65",
        "colab_type": "code",
        "colab": {}
      },
      "source": [
        "# Step 2: Parse the html content\n",
        "soup = BeautifulSoup(html_content, \"lxml\")\n",
        "# print(soup.prettify()) # print the parsed data of html\n"
      ],
      "execution_count": 0,
      "outputs": []
    },
    {
      "cell_type": "code",
      "metadata": {
        "id": "nedlHAks9Fcc",
        "colab_type": "code",
        "outputId": "4f580fe7-0f2b-40aa-ece6-615e773a773b",
        "colab": {
          "base_uri": "https://localhost:8080/",
          "height": 34
        }
      },
      "source": [
        "# Step 3: Analyze the HTML tag, where your content lives\n",
        "# Get the section having the id \"sources\"\n",
        "data_source_section = soup.find_all(\"section\", attrs={\"class\": \"st-section\"})[1]\n",
        "# print(data_source_section.prettify())\n",
        "\n",
        "data_source_list = data_source_section.ul.find_all(\"li\", attrs={\"style\": \"\"}) \n",
        "\n",
        "# print(data_source_list[0].prettify()) # print the first data source element\n",
        "\n",
        "print(str(len(data_source_list)) + \" sources in total.\")"
      ],
      "execution_count": 0,
      "outputs": [
        {
          "output_type": "stream",
          "text": [
            "9 sources in total.\n"
          ],
          "name": "stdout"
        }
      ]
    },
    {
      "cell_type": "code",
      "metadata": {
        "id": "cQ465Gy1FLRM",
        "colab_type": "code",
        "outputId": "d501f80d-47b4-404f-b748-420303a9abad",
        "colab": {
          "base_uri": "https://localhost:8080/",
          "height": 34
        }
      },
      "source": [
        "data_source_table = []\n",
        "for li in data_source_list: # loop on all li's\n",
        "    t_row = {}\n",
        "    # Each table row is stored in the form of\n",
        "    # t_row = {'Connector Name': '', Link': ''}\n",
        "\n",
        "    t_row['Connector Name'] = li.a.div.p.text\n",
        "    t_row['Link'] = li.a.attrs['href']\n",
        "    data_source_table.append(t_row)\n",
        "\n",
        "print(data_source_table[0])"
      ],
      "execution_count": 0,
      "outputs": [
        {
          "output_type": "stream",
          "text": [
            "{'Connector Name': 'Amazon Redshift', 'Link': '/data-warehouses/amazon-redshift'}\n"
          ],
          "name": "stdout"
        }
      ]
    },
    {
      "cell_type": "code",
      "metadata": {
        "id": "y_KsMCcI9IFF",
        "colab_type": "code",
        "outputId": "5fa5643f-0ae1-4460-bd0a-d7453545b698",
        "colab": {
          "base_uri": "https://localhost:8080/",
          "height": 328
        }
      },
      "source": [
        "# Step 4: Export the data to csv\n",
        "with open(\"StitchDataDestinationList.csv\", 'w') as out_file:\n",
        "      # The table has headers as following\n",
        "      headers = [ \n",
        "          \"Connector Name\",\n",
        "          \"Link\"\n",
        "      ]\n",
        "      writer = csv.DictWriter(out_file, headers)\n",
        "      # write the header\n",
        "      writer.writeheader()\n",
        "      for row in data_source_table:\n",
        "          if row:\n",
        "              writer.writerow(row)\n",
        "\n",
        "data = pd.read_csv(\"StitchDataDestinationList.csv\") \n",
        "data.head(200)"
      ],
      "execution_count": 0,
      "outputs": [
        {
          "output_type": "execute_result",
          "data": {
            "text/html": [
              "<div>\n",
              "<style scoped>\n",
              "    .dataframe tbody tr th:only-of-type {\n",
              "        vertical-align: middle;\n",
              "    }\n",
              "\n",
              "    .dataframe tbody tr th {\n",
              "        vertical-align: top;\n",
              "    }\n",
              "\n",
              "    .dataframe thead th {\n",
              "        text-align: right;\n",
              "    }\n",
              "</style>\n",
              "<table border=\"1\" class=\"dataframe\">\n",
              "  <thead>\n",
              "    <tr style=\"text-align: right;\">\n",
              "      <th></th>\n",
              "      <th>Connector Name</th>\n",
              "      <th>Link</th>\n",
              "    </tr>\n",
              "  </thead>\n",
              "  <tbody>\n",
              "    <tr>\n",
              "      <th>0</th>\n",
              "      <td>Amazon Redshift</td>\n",
              "      <td>/data-warehouses/amazon-redshift</td>\n",
              "    </tr>\n",
              "    <tr>\n",
              "      <th>1</th>\n",
              "      <td>Amazon S3</td>\n",
              "      <td>/data-warehouses/amazon-s3</td>\n",
              "    </tr>\n",
              "    <tr>\n",
              "      <th>2</th>\n",
              "      <td>Microsoft Azure Synapse Analytics</td>\n",
              "      <td>/data-warehouses/azure-sql-data-warehouse</td>\n",
              "    </tr>\n",
              "    <tr>\n",
              "      <th>3</th>\n",
              "      <td>Delta Lake on Databricks</td>\n",
              "      <td>/data-warehouses/databricks-delta</td>\n",
              "    </tr>\n",
              "    <tr>\n",
              "      <th>4</th>\n",
              "      <td>data.world</td>\n",
              "      <td>/data-warehouses/dataworld</td>\n",
              "    </tr>\n",
              "    <tr>\n",
              "      <th>5</th>\n",
              "      <td>Google BigQuery</td>\n",
              "      <td>/data-warehouses/google-bigquery</td>\n",
              "    </tr>\n",
              "    <tr>\n",
              "      <th>6</th>\n",
              "      <td>Panoply</td>\n",
              "      <td>/data-warehouses/panoply</td>\n",
              "    </tr>\n",
              "    <tr>\n",
              "      <th>7</th>\n",
              "      <td>PostgreSQL</td>\n",
              "      <td>/data-warehouses/postgresql</td>\n",
              "    </tr>\n",
              "    <tr>\n",
              "      <th>8</th>\n",
              "      <td>Snowflake</td>\n",
              "      <td>/data-warehouses/snowflake</td>\n",
              "    </tr>\n",
              "  </tbody>\n",
              "</table>\n",
              "</div>"
            ],
            "text/plain": [
              "                      Connector Name                                       Link\n",
              "0                    Amazon Redshift           /data-warehouses/amazon-redshift\n",
              "1                          Amazon S3                 /data-warehouses/amazon-s3\n",
              "2  Microsoft Azure Synapse Analytics  /data-warehouses/azure-sql-data-warehouse\n",
              "3           Delta Lake on Databricks          /data-warehouses/databricks-delta\n",
              "4                         data.world                 /data-warehouses/dataworld\n",
              "5                    Google BigQuery           /data-warehouses/google-bigquery\n",
              "6                            Panoply                   /data-warehouses/panoply\n",
              "7                         PostgreSQL                /data-warehouses/postgresql\n",
              "8                          Snowflake                 /data-warehouses/snowflake"
            ]
          },
          "metadata": {
            "tags": []
          },
          "execution_count": 19
        }
      ]
    }
  ]
}